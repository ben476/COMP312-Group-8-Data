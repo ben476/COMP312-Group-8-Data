{
 "cells": [
  {
   "cell_type": "code",
   "execution_count": 1,
   "id": "c623c25f",
   "metadata": {},
   "outputs": [],
   "source": [
    "import pandas as pd\n",
    "from scipy.stats import chisquare"
   ]
  },
  {
   "cell_type": "code",
   "execution_count": 2,
   "id": "e2125dff",
   "metadata": {},
   "outputs": [],
   "source": [
    "#Load Data as arrays\n",
    "RA = pd.read_csv('RANorm.csv', names=['arrival'], usecols=[1])\n",
    "RD = pd.read_csv('RDNorm.csv', names=['departure'], usecols=[1])\n",
    "LA = pd.read_csv('LANorm.csv', names=['arrival'], usecols=[1])\n",
    "LD = pd.read_csv('LDNorm.csv', names=['departure'], usecols=[1])"
   ]
  },
  {
   "cell_type": "code",
   "execution_count": 3,
   "id": "931dea64",
   "metadata": {},
   "outputs": [],
   "source": [
    "# Convertime string to seconds\n",
    "RD[\"departure\"] = pd.to_timedelta(RD[\"departure\"].radd(\"00:\")).dt.total_seconds()\n",
    "RA[\"arrival\"] = pd.to_timedelta(RA[\"arrival\"].radd(\"00:\")).dt.total_seconds()\n",
    "LD[\"departure\"] = pd.to_timedelta(LD[\"departure\"].radd(\"00:\")).dt.total_seconds()\n",
    "LA[\"arrival\"] = pd.to_timedelta(LA[\"arrival\"].radd(\"00:\")).dt.total_seconds()"
   ]
  },
  {
   "cell_type": "code",
   "execution_count": 4,
   "id": "9c5e9e8e",
   "metadata": {},
   "outputs": [],
   "source": [
    "# Merge into right and left Dataframes\n",
    "right = pd.concat([RA, RD], axis=1)\n",
    "left = pd.concat([LA, LD], axis=1)"
   ]
  },
  {
   "cell_type": "code",
   "execution_count": 5,
   "id": "997b913e",
   "metadata": {},
   "outputs": [],
   "source": [
    "# add delta, minimum 0\n",
    "right['delta'] = right['departure'] - right['arrival']\n",
    "right['delta'] = right['delta'].clip(lower=0)\n",
    "left['delta'] = left['departure'] - left['arrival']\n",
    "left['delta'] = left['delta'].clip(lower=0)"
   ]
  },
  {
   "cell_type": "code",
   "execution_count": 6,
   "metadata": {},
   "outputs": [],
   "source": [
    "# on top of this, plot mixture of an exponential distributions with mean 5 and gaussian with mean 55\n",
    "from scipy.stats import expon, norm, chi2\n",
    "import numpy as np\n",
    "import matplotlib.pyplot as plt"
   ]
  },
  {
   "cell_type": "code",
   "execution_count": 7,
   "id": "dbe7830c",
   "metadata": {},
   "outputs": [
    {
     "data": {
      "image/png": "[encoded data removed]",
      "text/plain": [
       "<Figure size 640x480 with 1 Axes>"
      ]
     },
     "metadata": {},
     "output_type": "display_data"
    }
   ],
   "source": [
    "x = np.linspace(0, 100, 100)\n",
    "\n",
    "# now do a mixture of two gaussians with means 5 and 55 and weights 0.5 and 0.5\n",
    "plt.plot(x, 0.65*expon.pdf(x, 0, 10) + 0.35*norm.pdf(x, 56, 8), label='5')\n",
    "\n",
    "# Plot histogram of left servings on the same plot with each bin being a proportion of the total\n",
    "plt.hist(right['delta'], bins=[0, 10, 20, 30, 40, 50, 60, 70], alpha=0.5, label='right', density=True)\n",
    "# plt.hist(left['delta'], bins=[0, 20, 40, 60, 80], alpha=0.5, label='left', density=True)\n",
    "\n",
    "# now show the histogram\n",
    "plt.legend()\n",
    "\n",
    "plt.show()"
   ]
  },
  {
   "cell_type": "code",
   "execution_count": 8,
   "id": "177863f3",
   "metadata": {},
   "outputs": [],
   "source": [
    "# Assign slow, medium, fast categories\n",
    "# 0-20 fast, 20-40 medium, 40+ slow\n",
    "bins = [-1, 20, 40, 1000]\n",
    "labels = ['fast', 'medium', 'slow']\n",
    "right['category'] = pd.cut(right['delta'], bins=bins, labels=labels)\n",
    "left['category'] = pd.cut(left['delta'], bins=bins, labels=labels)"
   ]
  },
  {
   "cell_type": "code",
   "execution_count": 9,
   "id": "5ceeffaf",
   "metadata": {},
   "outputs": [
    {
     "name": "stdout",
     "output_type": "stream",
     "text": [
      "     arrival  departure  delta category\n",
      "0       0.74      54.31  53.57     slow\n",
      "1       2.74      57.06  54.32     slow\n",
      "2       7.69      58.59  50.90     slow\n",
      "3      16.40      60.89  44.49     slow\n",
      "4      17.94      63.26  45.32     slow\n",
      "5      18.59      63.69  45.10     slow\n",
      "6      25.54      65.62  40.08     slow\n",
      "7      47.36      65.95  18.59     fast\n",
      "8      55.87      67.63  11.76     fast\n",
      "9      57.79      68.60  10.81     fast\n",
      "10     69.35      69.90   0.55     fast\n",
      "11     72.39      72.39   0.00     fast\n",
      "12     74.46      74.55   0.09     fast\n",
      "13     75.90      75.93   0.03     fast\n",
      "14     77.61      77.72   0.11     fast\n",
      "15     79.77      79.77   0.00     fast\n",
      "16     81.19      81.19   0.00     fast\n",
      "17     86.34      86.34   0.00     fast\n",
      "18     89.33      89.57   0.24     fast\n",
      "19     90.95      91.20   0.25     fast\n",
      "20     94.65      94.86   0.21     fast\n",
      "21     96.65      96.79   0.14     fast\n",
      "22     98.94      98.94   0.00     fast\n",
      "23    100.69     100.88   0.19     fast\n",
      "24    102.83     102.83   0.00     fast\n",
      "25    109.09     168.97  59.88     slow\n",
      "26    111.95     171.80  59.85     slow\n",
      "27    112.95     173.86  60.91     slow\n",
      "28    113.37     176.09  62.72     slow\n",
      "29    117.93     177.50  59.57     slow\n",
      "30    118.74     179.46  60.72     slow\n",
      "31    120.80     179.80  59.00     slow\n",
      "32    121.78     181.33  59.55     slow\n",
      "33    125.15     182.19  57.04     slow\n",
      "34    135.52     184.97  49.45     slow\n",
      "35    147.58     185.94  38.36   medium\n",
      "36    153.21     188.27  35.06   medium\n",
      "37    165.17     189.85  24.68   medium\n",
      "38    171.39     192.83  21.44   medium\n",
      "39    172.97     194.88  21.91   medium\n",
      "40    175.66     196.82  21.16   medium\n",
      "41    178.13     199.19  21.06   medium\n",
      "42    183.96     202.62  18.66     fast\n",
      "43    188.39     205.43  17.04     fast\n",
      "44    189.78     207.49  17.71     fast\n",
      "45    192.63     209.35  16.72     fast\n",
      "46    211.61     211.63   0.02     fast\n",
      "47    214.56     214.27   0.00     fast\n",
      "48    217.05     217.14   0.09     fast\n",
      "49    220.19     220.22   0.03     fast\n",
      "50    221.95     221.99   0.04     fast\n",
      "51    224.48     224.72   0.24     fast\n",
      "52    231.79     291.74  59.95     slow\n",
      "53    233.53     295.50  61.97     slow\n",
      "54    234.51     297.53  63.02     slow\n",
      "55    235.12     299.19  64.07     slow\n",
      "56    235.81     299.64  63.83     slow\n",
      "57    236.89     300.94  64.05     slow\n",
      "58    237.49     303.43  65.94     slow\n",
      "59    238.08     303.88  65.80     slow\n",
      "60    239.41     305.90  66.49     slow\n",
      "61    241.08     307.42  66.34     slow\n",
      "62    244.31     308.40  64.09     slow\n",
      "63    255.54     310.67  55.13     slow\n",
      "64    256.71     312.59  55.88     slow\n",
      "65    257.72     313.13  55.41     slow\n",
      "66    262.45     314.64  52.19     slow\n",
      "67    302.04     315.30  13.26     fast\n",
      "68    302.52     316.69  14.17     fast\n",
      "69    302.98     318.73  15.75     fast\n",
      "70    303.42     320.87  17.45     fast\n",
      "71    303.88     323.56  19.68     fast\n",
      "72    304.58     324.23  19.65     fast\n",
      "73    306.63     325.29  18.66     fast\n",
      "74    312.70     326.91  14.21     fast\n",
      "75    313.37     330.84  17.47     fast\n",
      "76    314.35     331.36  17.01     fast\n",
      "77    315.01     333.10  18.09     fast\n",
      "78    317.94     333.65  15.71     fast\n",
      "79    320.60     336.03  15.43     fast\n",
      "80    322.75     337.56  14.81     fast\n",
      "81    327.85     340.61  12.76     fast\n",
      "82    333.83     344.35  10.52     fast\n",
      "83    338.02     347.06   9.04     fast\n",
      "84    341.98     349.19   7.21     fast\n",
      "85    345.03     410.85  65.82     slow\n",
      "86    349.29     412.99  63.70     slow\n",
      "87    353.87     413.87  60.00     slow\n",
      "88    356.67     414.64  57.97     slow\n",
      "89    357.73     415.83  58.10     slow\n",
      "90    363.13     417.23  54.10     slow\n",
      "91    365.09     418.66  53.57     slow\n",
      "92    367.94     419.54  51.60     slow\n",
      "93    370.28     421.48  51.20     slow\n",
      "94    371.33     423.34  52.01     slow\n",
      "95    378.85     426.58  47.73     slow\n",
      "96    389.90     428.08  38.18   medium\n",
      "97    412.75     429.17  16.42     fast\n",
      "98    414.66     431.11  16.45     fast\n",
      "99    416.54     433.26  16.72     fast\n",
      "100   417.88     434.68  16.80     fast\n",
      "101   418.95     436.22  17.27     fast\n",
      "102   422.48     439.77  17.29     fast\n",
      "103   424.08     441.07  16.99     fast\n",
      "104   425.59     442.90  17.31     fast\n",
      "105   426.59     445.56  18.97     fast\n",
      "106   446.97     446.97   0.00     fast\n",
      "107   448.34     448.34   0.00     fast\n",
      "108   451.98     450.59   0.00     fast\n",
      "109   452.19     452.19   0.00     fast\n",
      "110   453.30     453.62   0.32     fast\n",
      "111   456.38     456.44   0.06     fast\n",
      "112   458.07     458.03   0.00     fast\n",
      "113   460.81     460.75   0.00     fast\n",
      "114   462.66     462.27   0.00     fast\n",
      "115   468.79     529.44  60.65     slow\n",
      "116   473.77     532.26  58.49     slow\n",
      "117   478.43     534.01  55.58     slow\n",
      "118   480.51     536.83  56.32     slow\n",
      "119   482.01     538.04  56.03     slow\n",
      "120   483.02     538.69  55.67     slow\n",
      "121   483.42     540.89  57.47     slow\n",
      "122   490.61     541.54  50.93     slow\n",
      "123   506.80     544.97  38.17   medium\n",
      "124   534.22     545.41  11.19     fast\n",
      "125   538.46     547.14   8.68     fast\n",
      "126   540.38     548.54   8.16     fast\n",
      "127   541.38     549.63   8.25     fast\n",
      "128   542.67     551.88   9.21     fast\n",
      "129   545.16     554.07   8.91     fast\n",
      "130   557.69     558.41   0.72     fast\n",
      "131   559.97     560.81   0.84     fast\n",
      "132   561.98     561.99   0.01     fast\n",
      "133   563.72     563.84   0.12     fast\n",
      "134   565.90     566.06   0.16     fast\n",
      "135   569.11     569.22   0.11     fast\n",
      "136   571.25     571.39   0.14     fast\n",
      "137   577.15     577.30   0.15     fast\n",
      "138   580.16     580.17   0.01     fast\n",
      "139   581.36     581.40   0.04     fast\n",
      "140   586.40     648.29  61.89     slow\n",
      "141   587.58     651.44  63.86     slow\n",
      "142   595.72     654.45  58.73     slow\n",
      "143   596.21     656.50  60.29     slow\n",
      "144   596.77     658.56  61.79     slow\n",
      "145   605.88     660.62  54.74     slow\n",
      "146   607.48     662.05  54.57     slow\n",
      "147   609.07     662.82  53.75     slow\n",
      "148   623.08     663.88  40.80     slow\n",
      "149   634.59     666.02  31.43   medium\n",
      "150   650.27     667.55  17.28     fast\n",
      "151   652.50     668.36  15.86     fast\n",
      "152   653.89     670.46  16.57     fast\n",
      "153   659.37     672.82  13.45     fast\n",
      "154   662.02     674.67  12.65     fast\n",
      "155   673.43     677.15   3.72     fast\n",
      "156   677.10     679.35   2.25     fast\n",
      "157   680.90     680.86   0.00     fast\n",
      "158   682.27     681.62   0.00     fast\n",
      "159   682.73     684.98   2.25     fast\n",
      "160   686.62     685.89   0.00     fast\n",
      "161   689.96     688.61   0.00     fast\n",
      "162   691.72     690.92   0.00     fast\n",
      "163   693.45     694.84   1.39     fast\n",
      "164   696.87     696.87   0.00     fast\n",
      "165   698.72     699.22   0.50     fast\n",
      "166   701.25     701.56   0.31     fast\n",
      "167   703.04     769.24  66.20     slow\n",
      "168   731.64     771.68  40.04     slow\n",
      "169   732.02     773.64  41.62     slow\n",
      "170   732.63     776.01  43.38     slow\n",
      "171   733.37     777.98  44.61     slow\n",
      "172   733.80     778.94  45.14     slow\n",
      "173   734.26     780.47  46.21     slow\n",
      "174   734.74     781.98  47.24     slow\n",
      "175   735.25     782.60  47.35     slow\n",
      "176   735.79     785.21  49.42     slow\n",
      "177   736.64     787.79  51.15     slow\n",
      "178   742.48     788.43  45.95     slow\n",
      "179   742.75     789.57  46.82     slow\n",
      "180   743.54     791.09  47.55     slow\n",
      "181   757.07     791.91  34.84   medium\n",
      "182   759.41     793.29  33.88   medium\n",
      "183   774.56     794.05  19.49     fast\n",
      "184   777.44     796.76  19.32     fast\n",
      "185   781.13     800.48  19.35     fast\n",
      "186   781.71     802.56  20.85   medium\n",
      "187   782.37     805.04  22.67   medium\n",
      "188   783.72     807.34  23.62   medium\n",
      "189   800.43     808.98   8.55     fast\n",
      "190   805.56     809.68   4.12     fast\n",
      "191   813.28     813.92   0.64     fast\n",
      "192   815.21     816.06   0.85     fast\n",
      "193   817.04     817.47   0.43     fast\n",
      "194   820.82     821.88   1.06     fast\n",
      "195   821.64     822.51   0.87     fast\n"
     ]
    }
   ],
   "source": [
    "pd.options.display.max_rows = 250\n",
    "print(right)"
   ]
  },
  {
   "attachments": {},
   "cell_type": "markdown",
   "id": "34eb2fac",
   "metadata": {},
   "source": [
    "## Chi-Squared Goodness of Fit Test\n",
    "Null Hypothesis: The distribution of the data is not the same as the distribution of the expected values\n",
    "Alternative Hypothesis: The distribution of the data is the same as the distribution of the expected values"
   ]
  },
  {
   "cell_type": "code",
   "execution_count": 10,
   "id": "5f05939b",
   "metadata": {},
   "outputs": [],
   "source": [
    "def mixture_cdf(x):\n",
    "    return 0.65*expon.cdf(x, 0, 10) + 0.35*norm.cdf(x, 56, 8)\n",
    "\n",
    "p = []\n",
    "\n",
    "for i in range(1, len(bins)):\n",
    "    p.append(mixture_cdf(bins[i]) - mixture_cdf(max(bins[i-1], 0)))"
   ]
  },
  {
   "cell_type": "code",
   "execution_count": 15,
   "id": "f83b8c5f",
   "metadata": {},
   "outputs": [
    {
     "data": {
      "text/plain": [
       "Power_divergenceResult(statistic=0.5301909550262623, pvalue=0.7671327025564889)"
      ]
     },
     "execution_count": 15,
     "metadata": {},
     "output_type": "execute_result"
    }
   ],
   "source": [
    "# Chi squared for right\n",
    "exp_right = np.array(p) * len(right)\n",
    "# exp_right = np.array(p) * len(right)\n",
    "obs_right_counts = right['category'].value_counts()\n",
    "obs_right = []\n",
    "\n",
    "for i in labels:\n",
    "    obs_right.append(obs_right_counts[i])\n",
    "\n",
    "chisquare(obs_right, exp_right)"
   ]
  },
  {
   "cell_type": "code",
   "execution_count": 16,
   "id": "603cbbef",
   "metadata": {},
   "outputs": [
    {
     "data": {
      "text/plain": [
       "array([110.158518  ,  16.46872866,  69.37275334])"
      ]
     },
     "execution_count": 16,
     "metadata": {},
     "output_type": "execute_result"
    }
   ],
   "source": [
    "exp_right"
   ]
  },
  {
   "cell_type": "code",
   "execution_count": 12,
   "id": "06a03edd",
   "metadata": {},
   "outputs": [
    {
     "data": {
      "text/plain": [
       "Power_divergenceResult(statistic=21.987368980164494, pvalue=1.6807514328752348e-05)"
      ]
     },
     "execution_count": 12,
     "metadata": {},
     "output_type": "execute_result"
    }
   ],
   "source": [
    "# Chi squared for left\n",
    "exp = np.array(p) * len(left)\n",
    "obs_left_counts = left['category'].value_counts()\n",
    "obs_left = []\n",
    "\n",
    "for i in labels:\n",
    "    obs_left.append(obs_left_counts[i])\n",
    "\n",
    "chisquare(obs_left, exp)\n"
   ]
  },
  {
   "attachments": {},
   "cell_type": "markdown",
   "id": "0b3d67c5",
   "metadata": {},
   "source": [
    "For both lanes, the p value is lower than 0.95, so we do not reject the null hypothesis. Therefore, the data does not necessarily follow this model."
   ]
  }
 ],
 "metadata": {
  "kernelspec": {
   "display_name": "Python 3 (ipykernel)",
   "language": "python",
   "name": "python3"
  },
  "language_info": {
   "codemirror_mode": {
    "name": "ipython",
    "version": 3
   },
   "file_extension": ".py",
   "mimetype": "text/x-python",
   "name": "python",
   "nbconvert_exporter": "python",
   "pygments_lexer": "ipython3",
   "version": "3.10.8"
  }
 },
 "nbformat": 4,
 "nbformat_minor": 5
}
