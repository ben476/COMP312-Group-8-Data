{
 "cells": [
  {
   "attachments": {},
   "cell_type": "markdown",
   "metadata": {},
   "source": [
    "# Model 3: G/G/2\n",
    "Based on Lab 5 code"
   ]
  },
  {
   "cell_type": "code",
   "execution_count": 109,
   "metadata": {},
   "outputs": [],
   "source": [
    "import pandas as pd\n",
    "import numpy as np\n",
    "from collections import defaultdict"
   ]
  },
  {
   "cell_type": "code",
   "execution_count": 110,
   "metadata": {},
   "outputs": [],
   "source": [
    "#Load Data as arrays\n",
    "RA = pd.read_csv('RANorm.csv', names=['arrival'], usecols=[1])\n",
    "RD = pd.read_csv('RDNorm.csv', names=['departure'], usecols=[1])\n",
    "LA = pd.read_csv('LANorm.csv', names=['arrival'], usecols=[1])\n",
    "LD = pd.read_csv('LDNorm.csv', names=['departure'], usecols=[1])\n",
    "\n",
    "# Convertime string to seconds\n",
    "RD[\"departure\"] = pd.to_timedelta(RD[\"departure\"].radd(\"00:\")).dt.total_seconds()\n",
    "RA[\"arrival\"] = pd.to_timedelta(RA[\"arrival\"].radd(\"00:\")).dt.total_seconds()\n",
    "LD[\"departure\"] = pd.to_timedelta(LD[\"departure\"].radd(\"00:\")).dt.total_seconds()\n",
    "LA[\"arrival\"] = pd.to_timedelta(LA[\"arrival\"].radd(\"00:\")).dt.total_seconds()\n",
    "\n",
    "# Merge into right and left Dataframes\n",
    "right = pd.concat([RA, RD], axis=1)\n",
    "left = pd.concat([LA, LD], axis=1)\n",
    "\n",
    "# add new column \"serving time\", the difference between departure and the max of arrival or the previous departure\n",
    "serving_time = []\n",
    "for i in range(len(right)):\n",
    "    if i == 0:\n",
    "        serving_time.append(right['departure'][i] - right['arrival'][i])\n",
    "    else:\n",
    "        serving_time.append(right['departure'][i] - max(right['arrival'][i], right['departure'][i-1]))\n",
    "right['serving_time'] = serving_time\n",
    "right['serving_time'] = right['serving_time'].clip(lower=0)\n",
    "\n",
    "serving_time = []\n",
    "for i in range(len(left)):\n",
    "    if i == 0:\n",
    "        serving_time.append(left['departure'][i] - left['arrival'][i])\n",
    "    else:\n",
    "        serving_time.append(left['departure'][i] - max(left['arrival'][i], left['departure'][i-1]))\n",
    "left['serving_time'] = serving_time\n",
    "left['serving_time'] = left['serving_time'].clip(lower=0)\n",
    "\n",
    "# add new column \"waiting time\", which is just the departure time minus the arrival time\n",
    "right['waiting_time'] = right['departure'] - right['arrival']\n",
    "right['waiting_time'] = right['waiting_time'].clip(lower=0)\n",
    "\n",
    "left['waiting_time'] = left['departure'] - left['arrival']\n",
    "left['waiting_time'] = left['waiting_time'].clip(lower=0)\n",
    "\n",
    "# get the interarrival time for the system (right + left)\n",
    "interarrival = []\n",
    "\n",
    "right['server'] = 'right'\n",
    "left['server'] = 'left'\n",
    "\n",
    "combined = pd.concat([right, left], axis=0)\n",
    "combined = combined.sort_values(by=['arrival'])\n",
    "combined = combined.reset_index(drop=True)\n",
    "\n",
    "for i in range(len(combined)):\n",
    "    if i == 0:\n",
    "        interarrival.append(combined['arrival'][i])\n",
    "    else:\n",
    "        interarrival.append(combined['arrival'][i] - combined['arrival'][i-1])\n",
    "combined['interarrival'] = interarrival\n",
    "combined['interarrival'] = combined['interarrival'].clip(lower=0)"
   ]
  },
  {
   "cell_type": "code",
   "execution_count": 111,
   "metadata": {},
   "outputs": [
    {
     "name": "stdout",
     "output_type": "stream",
     "text": [
      "Observed average waiting time:  25.39282738095238\n"
     ]
    }
   ],
   "source": [
    "W = combined['waiting_time'].mean()\n",
    "print(\"Observed average waiting time: \", W)"
   ]
  },
  {
   "cell_type": "code",
   "execution_count": 112,
   "metadata": {},
   "outputs": [],
   "source": [
    "from SimPy.Simulation import *"
   ]
  },
  {
   "cell_type": "code",
   "execution_count": 113,
   "metadata": {},
   "outputs": [],
   "source": [
    "class Source(Process):\n",
    "    \"\"\"generate random arrivals\"\"\"\n",
    "    def run(self, data):\n",
    "        for i in range(len(data)):\n",
    "            row = data.iloc[i]\n",
    "            a = Arrival(str(i))\n",
    "            activate(a, a.run(max(row[\"departure\"] - row[\"arrival\"], 0), row[\"server\"]))\n",
    "            if i < len(data) - 1:\n",
    "                t = data.iloc[i+1][\"arrival\"] - row[\"arrival\"]\n",
    "                yield hold, self, t"
   ]
  },
  {
   "cell_type": "code",
   "execution_count": 114,
   "metadata": {},
   "outputs": [],
   "source": [
    "class G:\n",
    "    def __init__(self, c):\n",
    "        self.server = Resource(capacity=c, monitored=True)\n",
    "        self.delaymon = Monitor()\n",
    "        self.numbermon = Monitor()\n",
    "        self.busymon = Monitor()\n",
    "        self.paimon = [Monitor() for i in range(100)]\n",
    "        self.c = c\n",
    "\n",
    "g = G(1)"
   ]
  },
  {
   "cell_type": "code",
   "execution_count": 115,
   "metadata": {},
   "outputs": [],
   "source": [
    "class Arrival(Process):\n",
    "    \"\"\"an arrival\"\"\"\n",
    "    n = 0  # class variable (number in system)\n",
    "\n",
    "    def run(self, t, server):\n",
    "        # Event: arrival\n",
    "        g.paimon[Arrival.n].observe(0)\n",
    "        Arrival.n += 1   # number in system\n",
    "        arrivetime = now()\n",
    "        g.numbermon.observe(Arrival.n)\n",
    "        if (Arrival.n>0):\n",
    "            g.busymon.observe(1)\n",
    "        else:\n",
    "            g.busymon.observe(0)\n",
    "\n",
    "        g.paimon[Arrival.n].observe(1)\n",
    "\n",
    "        yield hold, self, t\n",
    "\n",
    "        g.paimon[Arrival.n].observe(0)\n",
    "        \n",
    "        Arrival.n -= 1\n",
    "\n",
    "        g.paimon[Arrival.n].observe(1)\n",
    "        g.numbermon.observe(Arrival.n)\n",
    "        if (Arrival.n>0):\n",
    "            g.busymon.observe(1)\n",
    "        else:\n",
    "            g.busymon.observe(0)\n",
    "        delay = now()-arrivetime\n",
    "        g.delaymon.observe(delay)"
   ]
  },
  {
   "cell_type": "code",
   "execution_count": 116,
   "metadata": {},
   "outputs": [],
   "source": [
    "def model(c, N, data, maxtime, rvseed):\n",
    "    # setup\n",
    "    initialize()\n",
    "    random.seed(rvseed)\n",
    "    \n",
    "    global g \n",
    "    g = G(c)\n",
    "    \n",
    "    Arrival.n = 0\n",
    "   \n",
    "    # simulate\n",
    "    s = Source('Source')\n",
    "    activate(s, s.run(data))\n",
    "    simulate(until=maxtime)\n",
    "\n",
    "    # gather performance measures\n",
    "    W = g.delaymon.mean()\n",
    "    L = g.numbermon.timeAverage()\n",
    "    B = g.busymon.timeAverage()\n",
    "    return W, L, B"
   ]
  },
  {
   "cell_type": "code",
   "execution_count": 117,
   "metadata": {},
   "outputs": [
    {
     "name": "stdout",
     "output_type": "stream",
     "text": [
      "Simulated average waiting time:  25.392827380952387\n",
      "Simulated average number in system:  10.264295080783903\n",
      "Simulated average busy server time:  0.9124911276060778\n"
     ]
    }
   ],
   "source": [
    "W, L, B = model(1, 1, combined, 100000, 12345)\n",
    "print(\"Simulated average waiting time: \", W)\n",
    "print(\"Simulated average number in system: \", L)\n",
    "print(\"Simulated average busy server time: \", B)"
   ]
  },
  {
   "cell_type": "code",
   "execution_count": 119,
   "metadata": {},
   "outputs": [
    {
     "name": "stdout",
     "output_type": "stream",
     "text": [
      "0 0.08750887239392229\n",
      "1 0.0701009347593324\n",
      "2 0.0529786184408431\n",
      "3 0.042967479184991456\n",
      "4 0.02830814507472044\n",
      "5 0.028056547331853542\n",
      "6 0.03509090249301455\n",
      "7 0.04535637149028084\n",
      "8 0.028898781288768716\n",
      "9 0.044113350861817426\n",
      "10 0.03988079908759769\n",
      "11 0.03170785579306494\n",
      "12 0.07007089410116799\n",
      "13 0.02873690423491221\n",
      "14 0.05942681047765798\n",
      "15 0.02766328766105995\n",
      "16 0.06864775701050473\n",
      "17 0.043583565974479925\n",
      "18 0.041724258395734175\n",
      "19 0.04624328216656771\n",
      "20 0.06524355706598649\n",
      "21 0.03356513676402454\n",
      "22 0.19395553496989343\n",
      "23 0.10339753879079748\n",
      "24 0.18945042805854598\n",
      "25 0.07931354359925774\n",
      "26 0.0017130620985019453\n"
     ]
    }
   ],
   "source": [
    "for i, mon in enumerate(g.paimon):\n",
    "    if mon:\n",
    "        print(i, mon.timeAverage())"
   ]
  },
  {
   "cell_type": "code",
   "execution_count": 120,
   "metadata": {},
   "outputs": [
    {
     "data": {
      "image/png": "[encoded data removed]",
      "text/plain": [
       "<Figure size 640x480 with 1 Axes>"
      ]
     },
     "metadata": {},
     "output_type": "display_data"
    }
   ],
   "source": [
    "# 0 0.08750887239392229\n",
    "# 1 0.0701009347593324\n",
    "# 2 0.0529786184408431\n",
    "# 3 0.042967479184991456\n",
    "# 4 0.02830814507472044\n",
    "# 5 0.028056547331853542\n",
    "# 6 0.03509090249301455\n",
    "# 7 0.04535637149028084\n",
    "# 8 0.028898781288768716\n",
    "# 9 0.044113350861817426\n",
    "# 10 0.03988079908759769\n",
    "# 11 0.03170785579306494\n",
    "# 12 0.07007089410116799\n",
    "# 13 0.02873690423491221\n",
    "# 14 0.05942681047765798\n",
    "# 15 0.02766328766105995\n",
    "# 16 0.06864775701050473\n",
    "# 17 0.043583565974479925\n",
    "# 18 0.041724258395734175\n",
    "# 19 0.04624328216656771\n",
    "# 20 0.06524355706598649\n",
    "# 21 0.03356513676402454\n",
    "# 22 0.19395553496989343\n",
    "# 23 0.10339753879079748\n",
    "# 24 0.18945042805854598\n",
    "# 25 0.07931354359925774\n",
    "# 26 0.0017130620985019453\n",
    "\n",
    "import matplotlib.pyplot as plt\n",
    "\n",
    "plt.plot([mon.timeAverage() for mon in g.paimon])\n",
    "plt.show()"
   ]
  }
 ],
 "metadata": {
  "kernelspec": {
   "display_name": "Python 3 (ipykernel)",
   "language": "python",
   "name": "python3"
  },
  "language_info": {
   "codemirror_mode": {
    "name": "ipython",
    "version": 3
   },
   "file_extension": ".py",
   "mimetype": "text/x-python",
   "name": "python",
   "nbconvert_exporter": "python",
   "pygments_lexer": "ipython3",
   "version": "3.10.8"
  }
 },
 "nbformat": 4,
 "nbformat_minor": 4
}
