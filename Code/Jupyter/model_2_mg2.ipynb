{
 "cells": [
  {
   "attachments": {},
   "cell_type": "markdown",
   "metadata": {},
   "source": [
    "# Model 2: M/G/2\n",
    "Based on Lab 5 code"
   ]
  },
  {
   "cell_type": "code",
   "execution_count": 1,
   "metadata": {},
   "outputs": [],
   "source": [
    "\"\"\"(q4.py) M/M/c queueing system with several monitors and multiple replications\"\"\"\n",
    "\n",
    "from SimPy.Simulation import *\n",
    "import random\n",
    "import numpy\n",
    "import math"
   ]
  },
  {
   "cell_type": "code",
   "execution_count": 2,
   "metadata": {},
   "outputs": [],
   "source": [
    "def conf(L):\n",
    "    \"\"\"confidence interval\"\"\"\n",
    "    lower = numpy.mean(L) - 1.96*numpy.std(L)/math.sqrt(len(L))\n",
    "    upper = numpy.mean(L) + 1.96*numpy.std(L)/math.sqrt(len(L))\n",
    "    return lower, upper"
   ]
  },
  {
   "cell_type": "code",
   "execution_count": 3,
   "metadata": {},
   "outputs": [],
   "source": [
    "class Source(Process):\n",
    "    \"\"\"generate random arrivals\"\"\"\n",
    "    def run(self, N, lamb, serve_dist):\n",
    "        for i in range(N):\n",
    "            a = Arrival(str(i))\n",
    "            activate(a, a.run(serve_dist))\n",
    "            t = random.expovariate(lamb)\n",
    "            yield hold, self, t"
   ]
  },
  {
   "cell_type": "code",
   "execution_count": 4,
   "metadata": {},
   "outputs": [],
   "source": [
    "class Arrival(Process):\n",
    "    \"\"\"an arrival\"\"\"\n",
    "    n = 0  # class variable (number in system)\n",
    "\n",
    "    def run(self, serve_dist):\n",
    "        # Event: arrival\n",
    "        Arrival.n += 1   # number in system\n",
    "        arrivetime = now()\n",
    "        G.numbermon.observe(Arrival.n)\n",
    "        if (Arrival.n>0):\n",
    "            G.busymon.observe(1)\n",
    "        else:\n",
    "            G.busymon.observe(0)\n",
    "\n",
    "        yield request, self, G.server\n",
    "        # ... waiting in queue for server to be empty (delay) ...\n",
    "      \n",
    "        # Event: service begins\n",
    "        t = serve_dist()\n",
    "      \n",
    "        yield hold, self, t\n",
    "        # ... now being served (activity) ...\n",
    "      \n",
    "        # Event: service ends\n",
    "        yield release, self, G.server # let go of server (takes no simulation time)\n",
    "        Arrival.n -= 1\n",
    "        G.numbermon.observe(Arrival.n)\n",
    "        if (Arrival.n>0):\n",
    "            G.busymon.observe(1)\n",
    "        else:\n",
    "            G.busymon.observe(0)\n",
    "        delay = now()-arrivetime\n",
    "        G.delaymon.observe(delay)"
   ]
  },
  {
   "cell_type": "code",
   "execution_count": 5,
   "metadata": {},
   "outputs": [],
   "source": [
    "class G:\n",
    "    server = 'dummy'\n",
    "    delaymon = 'Monitor'\n",
    "    numbermon = 'Monitor'\n",
    "    busymon = 'Monitor'"
   ]
  },
  {
   "cell_type": "code",
   "execution_count": 6,
   "metadata": {},
   "outputs": [],
   "source": [
    "def model(c, N, lamb, serve_dist, maxtime, rvseed):\n",
    "    # setup\n",
    "    initialize()\n",
    "    random.seed(rvseed)\n",
    "    G.server = Resource(c)\n",
    "    G.delaymon = Monitor()\n",
    "    G.numbermon = Monitor()\n",
    "    G.busymon = Monitor()\n",
    "    \n",
    "    Arrival.n = 0\n",
    "   \n",
    "    # simulate\n",
    "    s = Source('Source')\n",
    "    activate(s, s.run(N, lamb, serve_dist))\n",
    "    simulate(until=maxtime)\n",
    "\n",
    "    # gather performance measures\n",
    "    W = G.delaymon.mean()\n",
    "    L = G.numbermon.timeAverage()\n",
    "    B = G.busymon.timeAverage()\n",
    "    return W, L, B"
   ]
  },
  {
   "cell_type": "code",
   "execution_count": 24,
   "metadata": {},
   "outputs": [],
   "source": [
    "## The serving distribution is described by 0.65*expon.pdf(x, 0, 10) + 0.35*norm.pdf(x, 56, 8)\n",
    "\n",
    "def serve_dist():\n",
    "    if random.random() < 0.965:\n",
    "        return random.expovariate(1/1.5)\n",
    "    else:\n",
    "        return random.normalvariate(60, 2)\n",
    "\n",
    "## Experiment ----------------\n",
    "allW = []\n",
    "allL = []\n",
    "allB = []\n",
    "allLambdaEffective = []\n",
    "for k in range(10):\n",
    "    seed = 123*k\n",
    "    result = model(c=2, N=10000, lamb=1/2.445357142857143, serve_dist=serve_dist, maxtime=200000, rvseed=seed)\n",
    "    allW.append(result[0])\n",
    "    allL.append(result[1])\n",
    "    allB.append(result[2])\n",
    "    allLambdaEffective.append(result[1]/result[0])"
   ]
  },
  {
   "cell_type": "code",
   "execution_count": 25,
   "metadata": {},
   "outputs": [
    {
     "name": "stdout",
     "output_type": "stream",
     "text": [
      "Estimate of W: 23.647644551502466\n",
      "Conf int of W: (22.100964873584743, 25.19432422942019)\n",
      "Estimate of L: 9.714075842636483\n",
      "Conf int of L: (9.08782242360543, 10.340329261667534)\n",
      "Estimate of B: 0.8322252651171897\n",
      "Conf int of B: (0.8248918129668595, 0.83955871726752)\n",
      "Estimate of LambdaEffective: 0.4108958562690838\n",
      "Conf int of LambdaEffective: (0.4080619525184981, 0.41372976001966955)\n"
     ]
    }
   ],
   "source": [
    "print(\"Estimate of W:\", numpy.mean(allW))\n",
    "print(\"Conf int of W:\", conf(allW))\n",
    "print(\"Estimate of L:\", numpy.mean(allL))\n",
    "print(\"Conf int of L:\", conf(allL))\n",
    "print(\"Estimate of B:\", numpy.mean(allB))\n",
    "print(\"Conf int of B:\", conf(allB))\n",
    "print(\"Estimate of LambdaEffective:\", numpy.mean(allLambdaEffective))\n",
    "print(\"Conf int of LambdaEffective:\", conf(allLambdaEffective))"
   ]
  }
 ],
 "metadata": {
  "kernelspec": {
   "display_name": "Python 3 (ipykernel)",
   "language": "python",
   "name": "python3"
  },
  "language_info": {
   "codemirror_mode": {
    "name": "ipython",
    "version": 3
   },
   "file_extension": ".py",
   "mimetype": "text/x-python",
   "name": "python",
   "nbconvert_exporter": "python",
   "pygments_lexer": "ipython3",
   "version": "3.10.8"
  }
 },
 "nbformat": 4,
 "nbformat_minor": 4
}
