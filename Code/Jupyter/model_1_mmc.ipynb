{
 "cells": [
  {
   "attachments": {},
   "cell_type": "markdown",
   "metadata": {},
   "source": [
    "# Model 1: M/M/c\n",
    "Based on Lab 5 code"
   ]
  },
  {
   "cell_type": "code",
   "execution_count": 1,
   "metadata": {},
   "outputs": [],
   "source": [
    "\"\"\"(q4.py) M/M/c queueing system with several monitors and multiple replications\"\"\"\n",
    "\n",
    "from SimPy.Simulation import *\n",
    "import random\n",
    "import numpy\n",
    "import math"
   ]
  },
  {
   "cell_type": "code",
   "execution_count": 2,
   "metadata": {},
   "outputs": [],
   "source": [
    "def conf(L):\n",
    "    \"\"\"confidence interval\"\"\"\n",
    "    lower = numpy.mean(L) - 1.96*numpy.std(L)/math.sqrt(len(L))\n",
    "    upper = numpy.mean(L) + 1.96*numpy.std(L)/math.sqrt(len(L))\n",
    "    return lower, upper"
   ]
  },
  {
   "cell_type": "code",
   "execution_count": 3,
   "metadata": {},
   "outputs": [],
   "source": [
    "class Source(Process):\n",
    "    \"\"\"generate random arrivals\"\"\"\n",
    "    def run(self, N, lamb, mu):\n",
    "        for i in range(N):\n",
    "            a = Arrival(str(i))\n",
    "            activate(a, a.run(mu))\n",
    "            t = random.expovariate(lamb)\n",
    "            yield hold, self, t"
   ]
  },
  {
   "cell_type": "code",
   "execution_count": 4,
   "metadata": {},
   "outputs": [],
   "source": [
    "class Arrival(Process):\n",
    "    \"\"\"an arrival\"\"\"\n",
    "    n = 0  # class variable (number in system)\n",
    "\n",
    "    def run(self, mu):\n",
    "        # Event: arrival\n",
    "        Arrival.n += 1   # number in system\n",
    "        arrivetime = now()\n",
    "        G.numbermon.observe(Arrival.n)\n",
    "        if (Arrival.n>0):\n",
    "            G.busymon.observe(1)\n",
    "        else:\n",
    "            G.busymon.observe(0)\n",
    "\n",
    "        yield request, self, G.server\n",
    "        # ... waiting in queue for server to be empty (delay) ...\n",
    "      \n",
    "        # Event: service begins\n",
    "        t = random.expovariate(mu)\n",
    "      \n",
    "        yield hold, self, t\n",
    "        # ... now being served (activity) ...\n",
    "      \n",
    "        # Event: service ends\n",
    "        yield release, self, G.server # let go of server (takes no simulation time)\n",
    "        Arrival.n -= 1\n",
    "        G.numbermon.observe(Arrival.n)\n",
    "        if (Arrival.n>0):\n",
    "            G.busymon.observe(1)\n",
    "        else:\n",
    "            G.busymon.observe(0)\n",
    "        delay = now()-arrivetime\n",
    "        G.delaymon.observe(delay)"
   ]
  },
  {
   "cell_type": "code",
   "execution_count": 5,
   "metadata": {},
   "outputs": [],
   "source": [
    "class G:\n",
    "    server = 'dummy'\n",
    "    delaymon = 'Monitor'\n",
    "    numbermon = 'Monitor'\n",
    "    busymon = 'Monitor'"
   ]
  },
  {
   "cell_type": "code",
   "execution_count": 6,
   "metadata": {},
   "outputs": [],
   "source": [
    "def model(c, N, lamb, mu, maxtime, rvseed):\n",
    "    # setup\n",
    "    initialize()\n",
    "    random.seed(rvseed)\n",
    "    G.server = Resource(c)\n",
    "    G.delaymon = Monitor()\n",
    "    G.numbermon = Monitor()\n",
    "    G.busymon = Monitor()\n",
    "    \n",
    "    Arrival.n = 0\n",
    "   \n",
    "    # simulate\n",
    "    s = Source('Source')\n",
    "    activate(s, s.run(N, lamb, mu))\n",
    "    simulate(until=maxtime)\n",
    "\n",
    "    # gather performance measures\n",
    "    W = G.delaymon.mean()\n",
    "    L = G.numbermon.timeAverage()\n",
    "    B = G.busymon.timeAverage()\n",
    "    return W, L, B"
   ]
  },
  {
   "cell_type": "code",
   "execution_count": 7,
   "metadata": {},
   "outputs": [],
   "source": [
    "## Experiment ----------------\n",
    "allW = []\n",
    "allL = []\n",
    "allB = []\n",
    "allLambdaEffective = []\n",
    "for k in range(50):\n",
    "    seed = 123*k\n",
    "    result = model(c=2, N=10000, lamb=1/2.445357142857143, mu=1/3.928647959183673, maxtime=200000, rvseed=seed)\n",
    "    allW.append(result[0])\n",
    "    allL.append(result[1])\n",
    "    allB.append(result[2])\n",
    "    allLambdaEffective.append(result[1]/result[0])"
   ]
  },
  {
   "cell_type": "code",
   "execution_count": 8,
   "metadata": {},
   "outputs": [
    {
     "name": "stdout",
     "output_type": "stream",
     "text": [
      "Estimate of W: 11.095118080820878\n",
      "Conf int of W: (10.8503271254504, 11.339909036191356)\n",
      "Estimate of L: 4.5396422644130965\n",
      "Conf int of L: (4.433052130038653, 4.64623239878754)\n",
      "Estimate of B: 0.8903000548365461\n",
      "Conf int of B: (0.8884404255669028, 0.8921596841061893)\n",
      "Estimate of LambdaEffective: 0.4090164546568189\n",
      "Conf int of LambdaEffective: (0.4077578201132859, 0.41027508920035194)\n"
     ]
    }
   ],
   "source": [
    "print(\"Estimate of W:\", numpy.mean(allW))\n",
    "print(\"Conf int of W:\", conf(allW))\n",
    "print(\"Estimate of L:\", numpy.mean(allL))\n",
    "print(\"Conf int of L:\", conf(allL))\n",
    "print(\"Estimate of B:\", numpy.mean(allB))\n",
    "print(\"Conf int of B:\", conf(allB))\n",
    "print(\"Estimate of LambdaEffective:\", numpy.mean(allLambdaEffective))\n",
    "print(\"Conf int of LambdaEffective:\", conf(allLambdaEffective))"
   ]
  }
 ],
 "metadata": {
  "kernelspec": {
   "display_name": "Python 3 (ipykernel)",
   "language": "python",
   "name": "python3"
  },
  "language_info": {
   "codemirror_mode": {
    "name": "ipython",
    "version": 3
   },
   "file_extension": ".py",
   "mimetype": "text/x-python",
   "name": "python",
   "nbconvert_exporter": "python",
   "pygments_lexer": "ipython3",
   "version": "3.10.8"
  }
 },
 "nbformat": 4,
 "nbformat_minor": 4
}
