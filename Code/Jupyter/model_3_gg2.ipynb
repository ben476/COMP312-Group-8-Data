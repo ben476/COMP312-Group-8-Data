{
 "cells": [
  {
   "attachments": {},
   "cell_type": "markdown",
   "metadata": {},
   "source": [
    "# Model 3: G/G/2\n",
    "Based on Lab 5 code"
   ]
  },
  {
   "cell_type": "code",
   "execution_count": 116,
   "metadata": {},
   "outputs": [],
   "source": [
    "import pandas as pd\n",
    "import numpy\n",
    "import numpy as np"
   ]
  },
  {
   "cell_type": "code",
   "execution_count": 117,
   "metadata": {},
   "outputs": [],
   "source": [
    "#Load Data as arrays\n",
    "RA = pd.read_csv('RANorm.csv', names=['arrival'], usecols=[1])\n",
    "RD = pd.read_csv('RDNorm.csv', names=['departure'], usecols=[1])\n",
    "LA = pd.read_csv('LANorm.csv', names=['arrival'], usecols=[1])\n",
    "LD = pd.read_csv('LDNorm.csv', names=['departure'], usecols=[1])\n",
    "\n",
    "# Convertime string to seconds\n",
    "RD[\"departure\"] = pd.to_timedelta(RD[\"departure\"].radd(\"00:\")).dt.total_seconds()\n",
    "RA[\"arrival\"] = pd.to_timedelta(RA[\"arrival\"].radd(\"00:\")).dt.total_seconds()\n",
    "LD[\"departure\"] = pd.to_timedelta(LD[\"departure\"].radd(\"00:\")).dt.total_seconds()\n",
    "LA[\"arrival\"] = pd.to_timedelta(LA[\"arrival\"].radd(\"00:\")).dt.total_seconds()\n",
    "\n",
    "# Merge into right and left Dataframes\n",
    "right = pd.concat([RA, RD], axis=1)\n",
    "left = pd.concat([LA, LD], axis=1)\n",
    "\n",
    "# add new column \"serving time\", the difference between departure and the max of arrival or the previous departure\n",
    "serving_time = []\n",
    "for i in range(len(right)):\n",
    "    if i == 0:\n",
    "        serving_time.append(right['departure'][i] - right['arrival'][i])\n",
    "    else:\n",
    "        serving_time.append(right['departure'][i] - max(right['arrival'][i], right['departure'][i-1]))\n",
    "right['serving_time'] = serving_time\n",
    "right['serving_time'] = right['serving_time'].clip(lower=0)\n",
    "\n",
    "serving_time = []\n",
    "for i in range(len(left)):\n",
    "    if i == 0:\n",
    "        serving_time.append(left['departure'][i] - left['arrival'][i])\n",
    "    else:\n",
    "        serving_time.append(left['departure'][i] - max(left['arrival'][i], left['departure'][i-1]))\n",
    "left['serving_time'] = serving_time\n",
    "left['serving_time'] = left['serving_time'].clip(lower=0)\n",
    "\n",
    "# get the interarrival time for the system (right + left)\n",
    "interarrival = []\n",
    "\n",
    "combined = pd.concat([right, left], axis=0)\n",
    "combined = combined.sort_values(by=['arrival'])\n",
    "combined = combined.reset_index(drop=True)\n",
    "\n",
    "for i in range(len(combined)):\n",
    "    if i == 0:\n",
    "        interarrival.append(combined['arrival'][i])\n",
    "    else:\n",
    "        interarrival.append(combined['arrival'][i] - combined['arrival'][i-1])\n",
    "combined['interarrival'] = interarrival\n",
    "combined['interarrival'] = combined['interarrival'].clip(lower=0)"
   ]
  },
  {
   "cell_type": "code",
   "execution_count": 118,
   "metadata": {},
   "outputs": [],
   "source": [
    "def empirical_cdf(data):\n",
    "    n = len(data)\n",
    "    x = np.sort(data)\n",
    "    y = np.arange(1,n+1)/n\n",
    "    return x, y\n",
    "\n",
    "def draw_empirical(data, r):\n",
    "    \"\"\"one draw (for given r ~ U(0,1)) from the empirical cdf based on data\"\"\"\n",
    "    x, y = empirical_cdf(data)\n",
    "    return x[numpy.argmax(y>r)]"
   ]
  },
  {
   "cell_type": "code",
   "execution_count": 119,
   "metadata": {},
   "outputs": [],
   "source": [
    "\"\"\"(q4.py) M/M/c queueing system with several monitors and multiple replications\"\"\"\n",
    "\n",
    "from SimPy.Simulation import *\n",
    "import random\n",
    "import numpy\n",
    "import math"
   ]
  },
  {
   "cell_type": "code",
   "execution_count": 120,
   "metadata": {},
   "outputs": [],
   "source": [
    "def conf(L):\n",
    "    \"\"\"confidence interval\"\"\"\n",
    "    lower = numpy.mean(L) - 1.96*numpy.std(L)/math.sqrt(len(L))\n",
    "    upper = numpy.mean(L) + 1.96*numpy.std(L)/math.sqrt(len(L))\n",
    "    return lower, upper"
   ]
  },
  {
   "cell_type": "code",
   "execution_count": 121,
   "metadata": {},
   "outputs": [],
   "source": [
    "class Source(Process):\n",
    "    \"\"\"generate random arrivals\"\"\"\n",
    "    def run(self, N):\n",
    "        for i in range(N):\n",
    "            a = Arrival(str(i))\n",
    "            activate(a, a.run())\n",
    "            r = random.random()\n",
    "            t = draw_empirical(combined['interarrival'], r)\n",
    "            yield hold, self, t"
   ]
  },
  {
   "cell_type": "code",
   "execution_count": 122,
   "metadata": {},
   "outputs": [],
   "source": [
    "class Arrival(Process):\n",
    "    \"\"\"an arrival\"\"\"\n",
    "    n = 0  # class variable (number in system)\n",
    "\n",
    "    def run(self):\n",
    "        # Event: arrival\n",
    "        Arrival.n += 1   # number in system\n",
    "        arrivetime = now()\n",
    "        G.numbermon.observe(Arrival.n)\n",
    "        if (Arrival.n>0):\n",
    "            G.busymon.observe(1)\n",
    "        else:\n",
    "            G.busymon.observe(0)\n",
    "\n",
    "        yield request, self, G.server\n",
    "        # ... waiting in queue for server to be empty (delay) ...\n",
    "      \n",
    "        # Event: service begins\n",
    "        r = random.random()\n",
    "        t = draw_empirical(combined['serving_time'], r)\n",
    "      \n",
    "        yield hold, self, t\n",
    "        # ... now being served (activity) ...\n",
    "      \n",
    "        # Event: service ends\n",
    "        yield release, self, G.server # let go of server (takes no simulation time)\n",
    "        Arrival.n -= 1\n",
    "        G.numbermon.observe(Arrival.n)\n",
    "        if (Arrival.n>0):\n",
    "            G.busymon.observe(1)\n",
    "        else:\n",
    "            G.busymon.observe(0)\n",
    "        delay = now()-arrivetime\n",
    "        G.delaymon.observe(delay)"
   ]
  },
  {
   "cell_type": "code",
   "execution_count": 123,
   "metadata": {},
   "outputs": [],
   "source": [
    "class G:\n",
    "    # server = 'dummy'\n",
    "    # delaymon = 'Monitor'\n",
    "    # numbermon = 'Monitor'\n",
    "    # busymon = 'Monitor'\n",
    "    def __init__(self, c):\n",
    "        self.server = Resource(capacity=1, monitored=True)\n",
    "        self.delaymon = Monitor()\n",
    "        self.numbermon = Monitor()\n",
    "        self.busymon = defaultdict(Monitor)\n",
    "        self.c = c"
   ]
  },
  {
   "cell_type": "code",
   "execution_count": 124,
   "metadata": {},
   "outputs": [],
   "source": [
    "def model(c, N, maxtime, rvseed):\n",
    "    # setup\n",
    "    initialize()\n",
    "    random.seed(rvseed)\n",
    "    G.server = Resource(c)\n",
    "    G.delaymon = Monitor()\n",
    "    G.numbermon = Monitor()\n",
    "    G.busymon = Monitor()\n",
    "    \n",
    "    Arrival.n = 0\n",
    "   \n",
    "    # simulate\n",
    "    s = Source('Source')\n",
    "    activate(s, s.run(N))\n",
    "    simulate(until=maxtime)\n",
    "\n",
    "    # gather performance measures\n",
    "    W = G.delaymon.mean()\n",
    "    L = G.numbermon.timeAverage()\n",
    "    B = G.busymon.timeAverage()\n",
    "    return W, L, B"
   ]
  },
  {
   "cell_type": "code",
   "execution_count": 125,
   "metadata": {},
   "outputs": [],
   "source": [
    "## The serving distribution is described by 0.9*expon.pdf(x, 0, 1.5) + 0.1*norm.pdf(x, 60, 7)\n",
    "\n",
    "def serve_dist():\n",
    "    if random.random() < 0.95:\n",
    "        return random.expovariate(1/1.5)\n",
    "    else:\n",
    "        return random.normalvariate(60, 2)\n",
    "\n",
    "## Experiment ----------------\n",
    "allW = []\n",
    "allL = []\n",
    "allB = []\n",
    "allLambdaEffective = []\n",
    "for k in range(50):\n",
    "    seed = 123*k\n",
    "    result = model(c=2, N=10000, maxtime=200000, rvseed=seed)\n",
    "    allW.append(result[0])\n",
    "    allL.append(result[1])\n",
    "    allB.append(result[2])\n",
    "    allLambdaEffective.append(result[1]/result[0])"
   ]
  },
  {
   "cell_type": "code",
   "execution_count": 126,
   "metadata": {},
   "outputs": [
    {
     "name": "stdout",
     "output_type": "stream",
     "text": [
      "Estimate of W: 35.126661840000494\n",
      "Conf int of W: (32.83981777025352, 37.41350590974747)\n",
      "Estimate of L: 14.182300896180914\n",
      "Conf int of L: (13.230964230711708, 15.13363756165012)\n",
      "Estimate of B: 0.8609109662623194\n",
      "Conf int of B: (0.8555238138162881, 0.8662981187083508)\n",
      "Estimate of LambdaEffective: 0.403212414359209\n",
      "Conf int of LambdaEffective: (0.40147491220736337, 0.40494991651105466)\n"
     ]
    }
   ],
   "source": [
    "print(\"Estimate of W:\", numpy.mean(allW))\n",
    "print(\"Conf int of W:\", conf(allW))\n",
    "print(\"Estimate of L:\", numpy.mean(allL))\n",
    "print(\"Conf int of L:\", conf(allL))\n",
    "print(\"Estimate of B:\", numpy.mean(allB))\n",
    "print(\"Conf int of B:\", conf(allB))\n",
    "print(\"Estimate of LambdaEffective:\", numpy.mean(allLambdaEffective))\n",
    "print(\"Conf int of LambdaEffective:\", conf(allLambdaEffective))"
   ]
  }
 ],
 "metadata": {
  "kernelspec": {
   "display_name": "Python 3 (ipykernel)",
   "language": "python",
   "name": "python3"
  },
  "language_info": {
   "codemirror_mode": {
    "name": "ipython",
    "version": 3
   },
   "file_extension": ".py",
   "mimetype": "text/x-python",
   "name": "python",
   "nbconvert_exporter": "python",
   "pygments_lexer": "ipython3",
   "version": "3.10.8"
  }
 },
 "nbformat": 4,
 "nbformat_minor": 4
}
