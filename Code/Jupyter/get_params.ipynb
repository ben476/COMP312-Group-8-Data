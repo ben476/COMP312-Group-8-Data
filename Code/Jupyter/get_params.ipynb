{
 "cells": [
  {
   "attachments": {},
   "cell_type": "markdown",
   "id": "03b5bc82",
   "metadata": {},
   "source": [
    "# Group 8 - Report 4\n",
    "Gather parameters for the model\n",
    "## Import data"
   ]
  },
  {
   "cell_type": "code",
   "execution_count": 1,
   "id": "c623c25f",
   "metadata": {},
   "outputs": [],
   "source": [
    "import pandas as pd\n",
    "from scipy.stats import chisquare"
   ]
  },
  {
   "cell_type": "code",
   "execution_count": 2,
   "id": "e2125dff",
   "metadata": {},
   "outputs": [],
   "source": [
    "#Load Data as arrays\n",
    "RA = pd.read_csv('RANorm.csv', names=['arrival'], usecols=[1])\n",
    "RD = pd.read_csv('RDNorm.csv', names=['departure'], usecols=[1])\n",
    "LA = pd.read_csv('LANorm.csv', names=['arrival'], usecols=[1])\n",
    "LD = pd.read_csv('LDNorm.csv', names=['departure'], usecols=[1])"
   ]
  },
  {
   "cell_type": "code",
   "execution_count": 3,
   "id": "931dea64",
   "metadata": {},
   "outputs": [],
   "source": [
    "# Convertime string to seconds\n",
    "RD[\"departure\"] = pd.to_timedelta(RD[\"departure\"].radd(\"00:\")).dt.total_seconds()\n",
    "RA[\"arrival\"] = pd.to_timedelta(RA[\"arrival\"].radd(\"00:\")).dt.total_seconds()\n",
    "LD[\"departure\"] = pd.to_timedelta(LD[\"departure\"].radd(\"00:\")).dt.total_seconds()\n",
    "LA[\"arrival\"] = pd.to_timedelta(LA[\"arrival\"].radd(\"00:\")).dt.total_seconds()"
   ]
  },
  {
   "cell_type": "code",
   "execution_count": 4,
   "id": "9c5e9e8e",
   "metadata": {},
   "outputs": [],
   "source": [
    "# Merge into right and left Dataframes\n",
    "right = pd.concat([RA, RD], axis=1)\n",
    "left = pd.concat([LA, LD], axis=1)"
   ]
  },
  {
   "cell_type": "code",
   "execution_count": 5,
   "id": "0df8b1a7",
   "metadata": {},
   "outputs": [],
   "source": [
    "# add new column \"serving time\", the difference between departure and the max of arrival or the previous departure\n",
    "serving_time = []\n",
    "for i in range(len(right)):\n",
    "    if i == 0:\n",
    "        serving_time.append(right['departure'][i] - right['arrival'][i])\n",
    "    else:\n",
    "        serving_time.append(right['departure'][i] - max(right['arrival'][i], right['departure'][i-1]))\n",
    "right['serving_time'] = serving_time\n",
    "right['serving_time'] = right['serving_time'].clip(lower=0)"
   ]
  },
  {
   "cell_type": "code",
   "execution_count": 6,
   "id": "9cf4de33",
   "metadata": {},
   "outputs": [],
   "source": [
    "serving_time = []\n",
    "for i in range(len(left)):\n",
    "    if i == 0:\n",
    "        serving_time.append(left['departure'][i] - left['arrival'][i])\n",
    "    else:\n",
    "        serving_time.append(left['departure'][i] - max(left['arrival'][i], left['departure'][i-1]))\n",
    "left['serving_time'] = serving_time\n",
    "left['serving_time'] = left['serving_time'].clip(lower=0)"
   ]
  },
  {
   "attachments": {},
   "cell_type": "markdown",
   "id": "91e33a3d",
   "metadata": {},
   "source": [
    "## Calculate mu and lambda"
   ]
  },
  {
   "cell_type": "code",
   "execution_count": 7,
   "id": "dd512850",
   "metadata": {},
   "outputs": [
    {
     "data": {
      "text/plain": [
       "3.928647959183673"
      ]
     },
     "execution_count": 7,
     "metadata": {},
     "output_type": "execute_result"
    }
   ],
   "source": [
    "mu = (right['serving_time'].mean() + left['serving_time'].mean())/2\n",
    "mu"
   ]
  },
  {
   "cell_type": "code",
   "execution_count": 13,
   "id": "b10835ce",
   "metadata": {},
   "outputs": [
    {
     "data": {
      "image/png": "[encoded data removed]",
      "text/plain": [
       "<Figure size 640x480 with 1 Axes>"
      ]
     },
     "metadata": {},
     "output_type": "display_data"
    }
   ],
   "source": [
    "# plot the serving time to a histogram\n",
    "import matplotlib.pyplot as plt\n",
    "import numpy as np\n",
    "from scipy.stats import expon, norm, chi2\n",
    "\n",
    "x = np.linspace(0, 70, 70)\n",
    "plt.plot(x, 0.95*expon.pdf(x, 0, 1.5) + 0.05*norm.pdf(x, 60, 2))\n",
    "plt.hist(right['serving_time'], bins=100, density=True)\n",
    "plt.show()"
   ]
  },
  {
   "cell_type": "code",
   "execution_count": 17,
   "id": "c656deea",
   "metadata": {},
   "outputs": [
    {
     "data": {
      "text/plain": [
       "196"
      ]
     },
     "execution_count": 17,
     "metadata": {},
     "output_type": "execute_result"
    }
   ],
   "source": [
    "len(right['serving_time'])"
   ]
  },
  {
   "cell_type": "code",
   "execution_count": 16,
   "id": "9ee802c1",
   "metadata": {},
   "outputs": [
    {
     "data": {
      "text/plain": [
       "7"
      ]
     },
     "execution_count": 16,
     "metadata": {},
     "output_type": "execute_result"
    }
   ],
   "source": [
    "len([a for a in right['serving_time'] if a > 40])"
   ]
  },
  {
   "cell_type": "code",
   "execution_count": null,
   "id": "6c3e2897",
   "metadata": {},
   "outputs": [
    {
     "data": {
      "text/plain": [
       "2.4750595238095237"
      ]
     },
     "execution_count": 9,
     "metadata": {},
     "output_type": "execute_result"
    }
   ],
   "source": [
    "lambda_ = max(right['arrival'].max(), left['arrival'].max()) / (right['arrival'].count() + left['arrival'].count())\n",
    "lambda_"
   ]
  },
  {
   "attachments": {},
   "cell_type": "markdown",
   "id": "b15af0b7",
   "metadata": {},
   "source": [
    "## Model interarrival times"
   ]
  },
  {
   "cell_type": "code",
   "execution_count": null,
   "id": "626da31c",
   "metadata": {},
   "outputs": [],
   "source": [
    "# get the interarrival time for the system (right + left)\n",
    "interarrival = []\n",
    "\n",
    "combined = pd.concat([right, left], axis=0)\n",
    "combined = combined.sort_values(by=['arrival'])\n",
    "combined = combined.reset_index(drop=True)\n",
    "\n",
    "for i in range(len(combined)):\n",
    "    if i == 0:\n",
    "        interarrival.append(combined['arrival'][i])\n",
    "    else:\n",
    "        interarrival.append(combined['arrival'][i] - combined['arrival'][i-1])\n",
    "combined['interarrival'] = interarrival\n",
    "combined['interarrival'] = combined['interarrival'].clip(lower=0)"
   ]
  },
  {
   "cell_type": "code",
   "execution_count": null,
   "id": "55d21f04",
   "metadata": {},
   "outputs": [
    {
     "data": {
      "image/png": "[encoded data removed]",
      "text/plain": [
       "<Figure size 640x480 with 1 Axes>"
      ]
     },
     "metadata": {},
     "output_type": "display_data"
    }
   ],
   "source": [
    "# plot the interarrival time to a histogram\n",
    "import matplotlib.pyplot as plt\n",
    "plt.hist(combined['interarrival'], bins=20)\n",
    "plt.show()"
   ]
  },
  {
   "cell_type": "code",
   "execution_count": null,
   "id": "93cef278",
   "metadata": {},
   "outputs": [
    {
     "data": {
      "text/plain": [
       "2.4750595238095237"
      ]
     },
     "execution_count": 12,
     "metadata": {},
     "output_type": "execute_result"
    }
   ],
   "source": [
    "# get mean of interarrival time\n",
    "combined['interarrival'].mean()"
   ]
  },
  {
   "cell_type": "code",
   "execution_count": null,
   "id": "5d3f18be",
   "metadata": {},
   "outputs": [
    {
     "data": {
      "image/png": "[encoded data removed]",
      "text/plain": [
       "<Figure size 640x480 with 1 Axes>"
      ]
     },
     "metadata": {},
     "output_type": "display_data"
    }
   ],
   "source": [
    "# plot exponential distribution with that mean on top of the histogram\n",
    "import numpy as np\n",
    "from scipy.stats import expon\n",
    "import matplotlib.pyplot as plt\n",
    "\n",
    "x = np.linspace(0, 30, 30)\n",
    "\n",
    "plt.plot(x, expon.pdf(x, scale=combined['interarrival'].mean()))\n",
    "plt.hist(combined['interarrival'], bins=20, density=True)\n",
    "plt.show()"
   ]
  }
 ],
 "metadata": {
  "kernelspec": {
   "display_name": "Python 3 (ipykernel)",
   "language": "python",
   "name": "python3"
  },
  "language_info": {
   "codemirror_mode": {
    "name": "ipython",
    "version": 3
   },
   "file_extension": ".py",
   "mimetype": "text/x-python",
   "name": "python",
   "nbconvert_exporter": "python",
   "pygments_lexer": "ipython3",
   "version": "3.10.8"
  }
 },
 "nbformat": 4,
 "nbformat_minor": 5
}
